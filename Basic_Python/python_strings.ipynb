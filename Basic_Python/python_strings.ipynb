{
 "cells": [
  {
   "cell_type": "markdown",
   "metadata": {},
   "source": [
    "# Python Strings"
   ]
  },
  {
   "cell_type": "markdown",
   "metadata": {},
   "source": [
    "### Single line"
   ]
  },
  {
   "cell_type": "code",
   "execution_count": 1,
   "metadata": {},
   "outputs": [
    {
     "name": "stdout",
     "output_type": "stream",
     "text": [
      "Hello, I am Pritom\n"
     ]
    }
   ],
   "source": [
    "a = \"Hello, I am Pritom\"\n",
    "\n",
    "print(a)"
   ]
  },
  {
   "cell_type": "code",
   "execution_count": 2,
   "metadata": {},
   "outputs": [
    {
     "name": "stdout",
     "output_type": "stream",
     "text": [
      "Hello,\n",
      "I am Pritom\n"
     ]
    }
   ],
   "source": [
    "b = \"\"\"Hello,\n",
    "I am Pritom\"\"\"\n",
    "print(b)"
   ]
  },
  {
   "cell_type": "markdown",
   "metadata": {},
   "source": [
    "### Strings are `arrays`, `arrays`of characters."
   ]
  },
  {
   "cell_type": "code",
   "execution_count": 3,
   "metadata": {},
   "outputs": [
    {
     "name": "stdout",
     "output_type": "stream",
     "text": [
      "H\n"
     ]
    }
   ],
   "source": [
    "a = \"Hello\"\n",
    "print(a[0])"
   ]
  },
  {
   "cell_type": "code",
   "execution_count": 4,
   "metadata": {},
   "outputs": [
    {
     "name": "stdout",
     "output_type": "stream",
     "text": [
      "p r i t o m "
     ]
    }
   ],
   "source": [
    "for x in 'pritom':\n",
    "    print(x, end=\" \")"
   ]
  },
  {
   "cell_type": "code",
   "execution_count": 5,
   "metadata": {},
   "outputs": [
    {
     "name": "stdout",
     "output_type": "stream",
     "text": [
      "Pritom is here!\n"
     ]
    }
   ],
   "source": [
    "a = 'I am Pritom Paul'\n",
    "\n",
    "if('Pritom' in a):\n",
    "    print(\"Pritom is here!\")"
   ]
  },
  {
   "cell_type": "code",
   "execution_count": 8,
   "metadata": {},
   "outputs": [
    {
     "name": "stdout",
     "output_type": "stream",
     "text": [
      "Not in a\n"
     ]
    }
   ],
   "source": [
    "if('Check' not in a):\n",
    "    print('Not in a')"
   ]
  },
  {
   "cell_type": "markdown",
   "metadata": {},
   "source": [
    "## Replace\n",
    "2 parameters -> (`Target`, `Replacement`)  \n",
    "returns -> new string"
   ]
  },
  {
   "cell_type": "code",
   "execution_count": 3,
   "metadata": {},
   "outputs": [
    {
     "name": "stdout",
     "output_type": "stream",
     "text": [
      "Pello, World!\n"
     ]
    }
   ],
   "source": [
    "a = \"Hello, World!\"\n",
    "x = a.replace('H', 'P')\n",
    "print(x)"
   ]
  },
  {
   "cell_type": "markdown",
   "metadata": {},
   "source": [
    "## Split\n",
    "splits the string when the instance is found."
   ]
  },
  {
   "cell_type": "code",
   "execution_count": 8,
   "metadata": {},
   "outputs": [
    {
     "name": "stdout",
     "output_type": "stream",
     "text": [
      "['Hello,', 'World!']\n",
      "I have 3 pans {adasd}\n",
      "I have a 3 taka\n"
     ]
    }
   ],
   "source": [
    "a = \"Hello, World!\"\n",
    "x = a.split()\n",
    "x1 = a.split(',')\n",
    "print(x)\n",
    "\n",
    "n = 3\n",
    "\n",
    "print(f\"I have {n} pans \" + \"{adasd}\")\n",
    "print(f\"I have a {3} taka\")"
   ]
  },
  {
   "cell_type": "markdown",
   "metadata": {},
   "source": [
    "|Method|Description|\n",
    "|---------|----------|\n",
    "|capitalize()|Converts the first character to upper case|\n",
    "|casefold()|Converts string into lower case|\n",
    "|center()|Returns a centered string|\n",
    "|count()|Returns the number of times a specified value occurs in a string|\n",
    "|encode()|Returns an encoded version of the string|\n",
    "|endswith()|Returns true if the string ends with the specified value|\n",
    "|expandtabs()|Sets the tab size of the string|\n",
    "|find()|Searches the string for a specified value and returns the position of where it was found|\n",
    "|format()|Formats specified values in a string|\n",
    "|format_map()|Formats specified values in a string|\n",
    "|index()|Searches the string for a specified value and returns the position of where it was found|\n",
    "|isalnum()|Returns True if all characters in the string are alphanumeric|\n",
    "|isalpha()|Returns True if all characters in the string are in the alphabet|\n",
    "isascii()|Returns True if all characters in the string are ascii characters|\n",
    "isdecimal()|Returns True if all characters in the string are decimals|\n",
    "isdigit()|Returns True if all characters in the string are digits|\n",
    "isidentifier()|Returns True if the string is an identifier|\n",
    "islower()|Returns True if all characters in the string are lower case|\n",
    "isnumeric()|Returns True if all characters in the string are numeric|\n",
    "isprintable()|Returns True if all characters in the string are printable\n",
    "isspace()|Returns True if all characters in the string are whitespaces\n",
    "istitle()|Returns True if the string follows the rules of a title\n",
    "isupper()|Returns True if all characters in the string are upper case\n",
    "join()|Joins the elements of an iterable to the end of the string\n",
    "ljust()|Returns a left justified version of the string\n",
    "lower()|Converts a string into lower case\n",
    "lstrip()|Returns a left trim version of the string\n",
    "maketrans()|Returns a translation table to be used in translations\n",
    "partition()|Returns a tuple where the string is parted into three parts\n",
    "replace()|Returns a string where a specified value is replaced with a specified value\n",
    "rfind()|Searches the string for a specified value and returns the last position of where it was found\n",
    "rindex()|Searches the string for a specified value and returns the last position of where it was found\n",
    "rjust()|Returns a right justified version of the string\n",
    "rpartition()|Returns a tuple where the string is parted into three parts\n",
    "rsplit()|Splits the string at the specified separator, and returns a list\n",
    "rstrip()|Returns a right trim version of the string\n",
    "split()|Splits the string at the specified separator, and returns a list\n",
    "splitlines()|Splits the string at line breaks and returns a list\n",
    "startswith()|Returns true if the string starts with the specified value\n",
    "strip()|Returns a trimmed version of the string\n",
    "swapcase()|Swaps cases, lower case becomes upper case and vice versa\n",
    "title()|Converts the first character of each word to upper case\n",
    "translate()|Returns a translated string\n",
    "upper()|Converts a string into upper case\n",
    "zfill()|Fills the string with a specified number of 0 values at the beginning"
   ]
  },
  {
   "cell_type": "code",
   "execution_count": null,
   "metadata": {},
   "outputs": [],
   "source": []
  },
  {
   "cell_type": "code",
   "execution_count": null,
   "metadata": {},
   "outputs": [],
   "source": []
  }
 ],
 "metadata": {
  "kernelspec": {
   "display_name": "base",
   "language": "python",
   "name": "python3"
  },
  "language_info": {
   "codemirror_mode": {
    "name": "ipython",
    "version": 3
   },
   "file_extension": ".py",
   "mimetype": "text/x-python",
   "name": "python",
   "nbconvert_exporter": "python",
   "pygments_lexer": "ipython3",
   "version": "3.11.5"
  }
 },
 "nbformat": 4,
 "nbformat_minor": 2
}
