{
 "cells": [
  {
   "cell_type": "markdown",
   "metadata": {},
   "source": [
    "# Python built-in Data Types\n",
    "In programming, data type is an important concept.\n",
    "\n",
    "Variables can store data of different types, and different types can do different things.\n",
    "\n",
    "Python has the following data types built-in by default, in these categories:\n",
    "|Types | keywords|\n",
    "|----------|-------|\n",
    "|Text Type:|\tstr|\n",
    "|Numeric Types:|\tint, float, complex|\n",
    "|Sequence Types:|\tlist, tuple, range|\n",
    "|Mapping Type:|\tdict|\n",
    "|Set Types:|\tset, frozenset\n",
    "|Boolean Type:|\tbool|\n",
    "|Binary Types:|\tbytes, bytearray, memoryview|\n",
    "|None Type:|\tNoneType|"
   ]
  },
  {
   "cell_type": "markdown",
   "metadata": {},
   "source": [
    "# Setting the Data Type\n",
    "In Python, the data type is set when you assign a value to a variable:\n",
    "\n",
    "|Example|\tData Type|\n",
    "|-------|------------|\n",
    "|x = \"Hello World\"|\tstr\t|\n",
    "|x = 20\t|int\t|\n",
    "|x = 20.5|\tfloat\t|\n",
    "|x = 1j\t|complex\t|\n",
    "|x = [\"apple\", \"banana\", \"cherry\"]|\tlist\t|\n",
    "|x = (\"apple\", \"banana\", \"cherry\")|\ttuple\t|\n",
    "|x = range(6)|\trange\t|\n",
    "|x = {\"name\" : \"John\", \"age\" : 36}|\tdict\t|\n",
    "|x = {\"apple\", \"banana\", \"cherry\"}|\tset\t|\n",
    "|x = frozenset({\"apple\", \"banana\", \"cherry\"})|\tfrozenset\t|\n",
    "|x = True|\tbool\t|\n",
    "|x = b\"Hello\"|\tbytes\t|\n",
    "|x = bytearray(5)|\tbytearray\t|\n",
    "|x = memoryview(bytes(5))|\tmemoryview\t|\n",
    "|x = None|\tNoneType|"
   ]
  },
  {
   "cell_type": "markdown",
   "metadata": {},
   "source": [
    "# Setting the Specific Data Type\n",
    "If you want to specify the data type, you can use the following constructor functions:\n",
    "\n",
    "|Example|Data Type|\n",
    "|-|-|\n",
    "|x = str(\"Hello World\")|str|\n",
    "|x = int(20)|int|\n",
    "|x = float(20.5)|float|\n",
    "|x = complex(1j)|complex|\n",
    "|x = list((\"apple\", \"banana\", \"cherry\"))|list|\n",
    "|x = tuple((\"apple\", \"banana\", \"cherry\"))|tuple|\n",
    "|x = range(6)|range|\n",
    "|x = dict(name=\"John\", age=36)|dict|\n",
    "|x = set((\"apple\", \"banana\", \"cherry\"))|set|\n",
    "|x = frozenset((\"apple\", \"banana\", \"cherry\"))|frozenset|\n",
    "|x = bool(5)|bool|\n",
    "|x = bytes(5)|bytes|\n",
    "|x = bytearray(5)|bytearray|\n",
    "|x = memoryview(bytes(5))|memoryview|"
   ]
  }
 ],
 "metadata": {
  "language_info": {
   "name": "python"
  }
 },
 "nbformat": 4,
 "nbformat_minor": 2
}
