{
 "cells": [
  {
   "cell_type": "markdown",
   "metadata": {},
   "source": [
    "# Python Polymorphism\n",
    "\n",
    "The word \"polymorphism\" means \"many forms\", and in programming it refers to methods/functions/operators with the same name that can be executed on many objects or classes.\n",
    "\n"
   ]
  },
  {
   "cell_type": "code",
   "execution_count": 5,
   "metadata": {},
   "outputs": [],
   "source": [
    "class Vehicle():\n",
    "    def __init__(self, brand, model):\n",
    "        self.brand = brand\n",
    "        self.model = model\n",
    "\n",
    "    def printInfo(self):\n",
    "        print(\"Brand:\", self.brand)\n",
    "        print(\"Model:\", self.model)"
   ]
  },
  {
   "cell_type": "code",
   "execution_count": 6,
   "metadata": {},
   "outputs": [],
   "source": [
    "class Car(Vehicle):\n",
    "    def __init__(self, brand, model, role) -> None:\n",
    "        super().__init__(brand, model)\n",
    "        self.role = role\n",
    "\n",
    "    def Role(self):\n",
    "        print(\"Brand:\", self.brand)\n",
    "        print(\"Model:\", self.model)\n",
    "        print(\"Role:\", self.role)"
   ]
  },
  {
   "cell_type": "code",
   "execution_count": 7,
   "metadata": {},
   "outputs": [],
   "source": [
    "class Boat(Vehicle):\n",
    "    def __init__(self, brand, model, role) -> None:\n",
    "        super().__init__(brand, model)\n",
    "        self.role = role\n",
    "\n",
    "    def Role(self):\n",
    "        print(\"Brand:\", self.brand)\n",
    "        print(\"Model:\", self.model)\n",
    "        print(\"Role:\", self.role)"
   ]
  },
  {
   "cell_type": "code",
   "execution_count": 9,
   "metadata": {},
   "outputs": [
    {
     "name": "stdout",
     "output_type": "stream",
     "text": [
      "Brand: Ford\n",
      "Model: Mustang\n",
      "Role: Runs\n",
      "Brand: Titanic\n",
      "Model: Big Ship\n",
      "Role: Sinks\n"
     ]
    }
   ],
   "source": [
    "car1 = Car(\"Ford\", \"Mustang\", \"Runs\")\n",
    "boat1 = Boat(\"Titanic\", \"Big Ship\", \"Sinks\")\n",
    "\n",
    "car1.Role()\n",
    "boat1.Role()"
   ]
  },
  {
   "cell_type": "code",
   "execution_count": 1,
   "metadata": {},
   "outputs": [
    {
     "ename": "ModuleNotFoundError",
     "evalue": "No module named 'cv2'",
     "output_type": "error",
     "traceback": [
      "\u001b[1;31m---------------------------------------------------------------------------\u001b[0m",
      "\u001b[1;31mModuleNotFoundError\u001b[0m                       Traceback (most recent call last)",
      "Cell \u001b[1;32mIn[1], line 1\u001b[0m\n\u001b[1;32m----> 1\u001b[0m \u001b[38;5;28;01mimport\u001b[39;00m \u001b[38;5;21;01mcv2\u001b[39;00m\n",
      "\u001b[1;31mModuleNotFoundError\u001b[0m: No module named 'cv2'"
     ]
    }
   ],
   "source": [
    "import cv2"
   ]
  },
  {
   "cell_type": "code",
   "execution_count": null,
   "metadata": {},
   "outputs": [],
   "source": []
  }
 ],
 "metadata": {
  "kernelspec": {
   "display_name": "base",
   "language": "python",
   "name": "python3"
  },
  "language_info": {
   "codemirror_mode": {
    "name": "ipython",
    "version": 3
   },
   "file_extension": ".py",
   "mimetype": "text/x-python",
   "name": "python",
   "nbconvert_exporter": "python",
   "pygments_lexer": "ipython3",
   "version": "3.11.5"
  }
 },
 "nbformat": 4,
 "nbformat_minor": 2
}
