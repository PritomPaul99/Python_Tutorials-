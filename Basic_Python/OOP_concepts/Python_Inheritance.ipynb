{
 "cells": [
  {
   "cell_type": "markdown",
   "metadata": {},
   "source": [
    "# Python Inheritance\n",
    "Inheritance allows us to define a class that inherits all the methods and properties from another class.\n",
    "\n",
    "Parent class is the class being inherited from, also called base class.\n",
    "\n",
    "Child class is the class that inherits from another class, also called derived class."
   ]
  },
  {
   "cell_type": "code",
   "execution_count": 2,
   "metadata": {},
   "outputs": [],
   "source": [
    "# At first, lets create a parent class\n",
    "\n",
    "class Person():\n",
    "    def __init__(self, fname, lname):\n",
    "        self.fname = fname\n",
    "        self.lname = lname\n",
    "\n",
    "    def printName(self):\n",
    "        print(self.fname, self.lname)"
   ]
  },
  {
   "cell_type": "code",
   "execution_count": 3,
   "metadata": {},
   "outputs": [],
   "source": [
    "# Now, lets create the children class\n",
    "\n",
    "class Student(Person):\n",
    "    def __init__(self, fname, lname, gradYear):\n",
    "        super().__init__(fname, lname)\n",
    "        self.gradYear = gradYear\n",
    "\n",
    "    def studentInfo(self):\n",
    "        print(\"Name:\", self.fname, self.lname)\n",
    "        print(\"Graduation year:\", self.gradYear)"
   ]
  },
  {
   "cell_type": "code",
   "execution_count": 4,
   "metadata": {},
   "outputs": [
    {
     "name": "stdout",
     "output_type": "stream",
     "text": [
      "Pritom Paul\n",
      "Name: Pritom Paul\n",
      "Graduation year: 2024\n"
     ]
    }
   ],
   "source": [
    "s1 = Student(\"Pritom\", \"Paul\", 2024)\n",
    "\n",
    "s1.printName()\n",
    "s1.studentInfo()"
   ]
  },
  {
   "cell_type": "code",
   "execution_count": null,
   "metadata": {},
   "outputs": [],
   "source": []
  }
 ],
 "metadata": {
  "kernelspec": {
   "display_name": "base",
   "language": "python",
   "name": "python3"
  },
  "language_info": {
   "codemirror_mode": {
    "name": "ipython",
    "version": 3
   },
   "file_extension": ".py",
   "mimetype": "text/x-python",
   "name": "python",
   "nbconvert_exporter": "python",
   "pygments_lexer": "ipython3",
   "version": "3.11.5"
  }
 },
 "nbformat": 4,
 "nbformat_minor": 2
}
