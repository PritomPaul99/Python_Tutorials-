{
 "cells": [
  {
   "cell_type": "markdown",
   "metadata": {},
   "source": [
    "# Python Dictionaries\n",
    "- Stores data in `key:value` pairs.\n",
    "- Ordered collection. (Since Python 3.7).\n",
    "- Does not allow duplicate values. (In case any duplicate comes, latest one will be assigned.)\n",
    "- Changeable.\n",
    "\n",
    "> - Length of dictionary:\n",
    "> ```python\n",
    "> len()\n",
    "> ```"
   ]
  },
  {
   "cell_type": "code",
   "execution_count": 16,
   "metadata": {},
   "outputs": [
    {
     "name": "stdout",
     "output_type": "stream",
     "text": [
      "3\n",
      "1\n",
      "pritom\n",
      "{'Pritom': 1, 'Akhi': 1, 'Choity': 3}\n",
      "{'name': 'pritom', 'age': 24, 'home': 'bd'}\n"
     ]
    }
   ],
   "source": [
    "# Ways of declaring dictionaries\n",
    "dict1 = {\"Pritom\": 1, \"Akhi\": 1, \"Choity\": 3}\n",
    "dict2 = dict(name=\"pritom\", age=24, home=\"bd\")  # using dict constructor\n",
    "\n",
    "print(len(dict1))\n",
    "\n",
    "print(dict1[\"Pritom\"])\n",
    "print(dict2[\"name\"])\n",
    "\n",
    "print(dict1)\n",
    "print(dict2)"
   ]
  },
  {
   "cell_type": "markdown",
   "metadata": {},
   "source": [
    "## Accessing items"
   ]
  },
  {
   "cell_type": "markdown",
   "metadata": {},
   "source": [
    "### 1. dictName[key] = value"
   ]
  },
  {
   "cell_type": "code",
   "execution_count": 17,
   "metadata": {},
   "outputs": [
    {
     "name": "stdout",
     "output_type": "stream",
     "text": [
      "1\n"
     ]
    }
   ],
   "source": [
    "print(dict1[\"Pritom\"])"
   ]
  },
  {
   "cell_type": "markdown",
   "metadata": {},
   "source": [
    "### 2. get method\n",
    "> same as previous one"
   ]
  },
  {
   "cell_type": "code",
   "execution_count": 18,
   "metadata": {},
   "outputs": [
    {
     "name": "stdout",
     "output_type": "stream",
     "text": [
      "1\n"
     ]
    }
   ],
   "source": [
    "print(dict1.get(\"Pritom\"))"
   ]
  },
  {
   "cell_type": "markdown",
   "metadata": {},
   "source": [
    "### 3. Keys method\n",
    "> keys() method will return all the keys of the dictionary"
   ]
  },
  {
   "cell_type": "code",
   "execution_count": 19,
   "metadata": {},
   "outputs": [
    {
     "name": "stdout",
     "output_type": "stream",
     "text": [
      "dict_keys(['Pritom', 'Akhi', 'Choity'])\n"
     ]
    }
   ],
   "source": [
    "print(dict1.keys())"
   ]
  },
  {
   "cell_type": "markdown",
   "metadata": {},
   "source": [
    "### 4. Values method\n",
    "> values() method returns all the values of the dictionary"
   ]
  },
  {
   "cell_type": "code",
   "execution_count": 20,
   "metadata": {},
   "outputs": [
    {
     "name": "stdout",
     "output_type": "stream",
     "text": [
      "dict_values([1, 1, 3])\n"
     ]
    }
   ],
   "source": [
    "print(dict1.values())"
   ]
  },
  {
   "cell_type": "markdown",
   "metadata": {},
   "source": [
    "### 5. Get Items\n",
    "> The items() method will return each item in a dictionary, as tuples in a list."
   ]
  },
  {
   "cell_type": "code",
   "execution_count": 21,
   "metadata": {},
   "outputs": [
    {
     "name": "stdout",
     "output_type": "stream",
     "text": [
      "dict_items([('Pritom', 1), ('Akhi', 1), ('Choity', 3)])\n"
     ]
    }
   ],
   "source": [
    "print(dict1.items())"
   ]
  },
  {
   "cell_type": "markdown",
   "metadata": {},
   "source": [
    "### 6. Check if Key Exists\n"
   ]
  },
  {
   "cell_type": "code",
   "execution_count": 22,
   "metadata": {},
   "outputs": [
    {
     "name": "stdout",
     "output_type": "stream",
     "text": [
      "Exist\n"
     ]
    }
   ],
   "source": [
    "if \"Pritom\" in dict1:\n",
    "    print(\"Exist\")\n",
    "else:\n",
    "    print(\"Does not exist\")"
   ]
  },
  {
   "cell_type": "markdown",
   "metadata": {},
   "source": [
    "## Python - Change Dictionary Items\n"
   ]
  },
  {
   "cell_type": "markdown",
   "metadata": {},
   "source": [
    "### 1. Method 1"
   ]
  },
  {
   "cell_type": "code",
   "execution_count": 23,
   "metadata": {},
   "outputs": [
    {
     "name": "stdout",
     "output_type": "stream",
     "text": [
      "{'Pritom': 1, 'Akhi': 1, 'Choity': 5}\n"
     ]
    }
   ],
   "source": [
    "dict1[\"Choity\"] = 5\n",
    "\n",
    "print(dict1)"
   ]
  },
  {
   "cell_type": "markdown",
   "metadata": {},
   "source": [
    "### 2. Method 2"
   ]
  },
  {
   "cell_type": "code",
   "execution_count": 24,
   "metadata": {},
   "outputs": [
    {
     "name": "stdout",
     "output_type": "stream",
     "text": [
      "{'Pritom': 5, 'Akhi': 1, 'Choity': 5}\n"
     ]
    }
   ],
   "source": [
    "dict1.update({\"Pritom\": 5})\n",
    "\n",
    "print(dict1)"
   ]
  },
  {
   "cell_type": "markdown",
   "metadata": {},
   "source": [
    "## Add Dictionary Items"
   ]
  },
  {
   "cell_type": "markdown",
   "metadata": {},
   "source": [
    "### 1. Method 1"
   ]
  },
  {
   "cell_type": "code",
   "execution_count": 25,
   "metadata": {},
   "outputs": [
    {
     "name": "stdout",
     "output_type": "stream",
     "text": [
      "{'Pritom': 5, 'Akhi': 1, 'Choity': 5, 'Us': 10}\n"
     ]
    }
   ],
   "source": [
    "dict1[\"Us\"] = 10\n",
    "print(dict1)"
   ]
  },
  {
   "cell_type": "markdown",
   "metadata": {},
   "source": [
    "### 2. Method 2"
   ]
  },
  {
   "cell_type": "code",
   "execution_count": 26,
   "metadata": {},
   "outputs": [
    {
     "name": "stdout",
     "output_type": "stream",
     "text": [
      "{'Pritom': 5, 'Akhi': 1, 'Choity': 5, 'Us': 10, 'Pritom Akhi': 10}\n"
     ]
    }
   ],
   "source": [
    "dict1.update({\"Pritom Akhi\": 10})\n",
    "\n",
    "print(dict1)"
   ]
  },
  {
   "cell_type": "code",
   "execution_count": 27,
   "metadata": {},
   "outputs": [
    {
     "name": "stdout",
     "output_type": "stream",
     "text": [
      "{'Pritom': 5, 'Akhi': 1, 'Choity': 5, 'Us': 10, 'Pritom Akhi': 10, 'X': 10, 'Y': 10, 'Z': 10, 'P': 10}\n"
     ]
    }
   ],
   "source": [
    "dict1.update({\"X\": 10})\n",
    "dict1.update({\"Y\": 10})\n",
    "dict1.update({\"Z\": 10})\n",
    "dict1.update({\"P\": 10})\n",
    "\n",
    "print(dict1)"
   ]
  },
  {
   "cell_type": "markdown",
   "metadata": {},
   "source": [
    "## Remove Dictionary Items"
   ]
  },
  {
   "cell_type": "markdown",
   "metadata": {},
   "source": [
    "### 1. Using `pop()`\n",
    "\n",
    "> pop() method removes the item with the specified key name"
   ]
  },
  {
   "cell_type": "code",
   "execution_count": 28,
   "metadata": {},
   "outputs": [
    {
     "name": "stdout",
     "output_type": "stream",
     "text": [
      "{'Pritom': 5, 'Akhi': 1, 'Choity': 5, 'Us': 10, 'Pritom Akhi': 10, 'X': 10, 'Y': 10, 'Z': 10, 'P': 10}\n",
      "{'Pritom': 5, 'Akhi': 1, 'Choity': 5, 'Us': 10, 'Pritom Akhi': 10, 'Y': 10, 'Z': 10, 'P': 10}\n"
     ]
    }
   ],
   "source": [
    "print(dict1)\n",
    "\n",
    "dict1.pop(\"X\")\n",
    "\n",
    "print(dict1)"
   ]
  },
  {
   "cell_type": "markdown",
   "metadata": {},
   "source": [
    "### 2. Using `popitem()`\n",
    "\n",
    "> The popitem() method removes the `last inserted item `"
   ]
  },
  {
   "cell_type": "code",
   "execution_count": 29,
   "metadata": {},
   "outputs": [
    {
     "name": "stdout",
     "output_type": "stream",
     "text": [
      "{'Pritom': 5, 'Akhi': 1, 'Choity': 5, 'Us': 10, 'Pritom Akhi': 10, 'Y': 10, 'Z': 10, 'P': 10}\n",
      "{'Pritom': 5, 'Akhi': 1, 'Choity': 5, 'Us': 10, 'Pritom Akhi': 10, 'Y': 10, 'Z': 10}\n"
     ]
    }
   ],
   "source": [
    "print(dict1)\n",
    "\n",
    "dict1.popitem()\n",
    "\n",
    "print(dict1)\n"
   ]
  },
  {
   "cell_type": "markdown",
   "metadata": {},
   "source": [
    "### 3. Using `del`\n",
    "\n",
    "> The del keyword removes the item with the specified key name"
   ]
  },
  {
   "cell_type": "code",
   "execution_count": 30,
   "metadata": {},
   "outputs": [
    {
     "name": "stdout",
     "output_type": "stream",
     "text": [
      "{'Pritom': 5, 'Akhi': 1, 'Choity': 5, 'Us': 10, 'Pritom Akhi': 10, 'Y': 10, 'Z': 10}\n",
      "{'Pritom': 5, 'Akhi': 1, 'Choity': 5, 'Us': 10, 'Pritom Akhi': 10, 'Y': 10}\n"
     ]
    }
   ],
   "source": [
    "print(dict1)\n",
    "\n",
    "del dict1[\"Z\"]\n",
    "\n",
    "print(dict1)"
   ]
  },
  {
   "cell_type": "markdown",
   "metadata": {},
   "source": [
    "> `del` also removes the dictionary"
   ]
  },
  {
   "cell_type": "code",
   "execution_count": 34,
   "metadata": {},
   "outputs": [
    {
     "name": "stdout",
     "output_type": "stream",
     "text": [
      "{'A': 10, 'B': 20, 'C': 30}\n"
     ]
    }
   ],
   "source": [
    "dictx = {\"A\": 10, \"B\": 20, \"C\": 30}\n",
    "print(dictx)\n",
    "\n",
    "del dictx"
   ]
  },
  {
   "cell_type": "code",
   "execution_count": 33,
   "metadata": {},
   "outputs": [
    {
     "ename": "NameError",
     "evalue": "name 'dictx' is not defined",
     "output_type": "error",
     "traceback": [
      "\u001b[1;31m---------------------------------------------------------------------------\u001b[0m",
      "\u001b[1;31mNameError\u001b[0m                                 Traceback (most recent call last)",
      "Cell \u001b[1;32mIn[33], line 1\u001b[0m\n\u001b[1;32m----> 1\u001b[0m \u001b[38;5;28mprint\u001b[39m(dictx)\n",
      "\u001b[1;31mNameError\u001b[0m: name 'dictx' is not defined"
     ]
    }
   ],
   "source": [
    "print(dictx)"
   ]
  },
  {
   "cell_type": "markdown",
   "metadata": {},
   "source": [
    "### 4. Using clear()\n",
    "\n",
    "> The clear() method empties the dictionary"
   ]
  },
  {
   "cell_type": "code",
   "execution_count": 35,
   "metadata": {},
   "outputs": [
    {
     "name": "stdout",
     "output_type": "stream",
     "text": [
      "{'A': 10, 'B': 20, 'C': 30}\n",
      "{}\n"
     ]
    }
   ],
   "source": [
    "dictx = {\"A\": 10, \"B\": 20, \"C\": 30}\n",
    "\n",
    "print(dictx)\n",
    "\n",
    "dictx.clear()\n",
    "\n",
    "print(dictx)"
   ]
  },
  {
   "cell_type": "markdown",
   "metadata": {},
   "source": [
    "## Loop through dictionary items"
   ]
  },
  {
   "cell_type": "markdown",
   "metadata": {},
   "source": [
    "### 1. Using for loop (prints Key name)\n",
    "\n",
    "> Print all key names in the dictionary, one by one"
   ]
  },
  {
   "cell_type": "code",
   "execution_count": 36,
   "metadata": {},
   "outputs": [
    {
     "name": "stdout",
     "output_type": "stream",
     "text": [
      "Pritom\n",
      "Akhi\n",
      "Choity\n",
      "Us\n",
      "Pritom Akhi\n",
      "Y\n"
     ]
    }
   ],
   "source": [
    "for x in dict1:\n",
    "    print(x)\n"
   ]
  },
  {
   "cell_type": "markdown",
   "metadata": {},
   "source": [
    "### 2. Using for loop (prints value name)\n",
    "\n",
    "> Print all values in the dictionary, one by one"
   ]
  },
  {
   "cell_type": "code",
   "execution_count": 37,
   "metadata": {},
   "outputs": [
    {
     "name": "stdout",
     "output_type": "stream",
     "text": [
      "5\n",
      "1\n",
      "5\n",
      "10\n",
      "10\n",
      "10\n"
     ]
    }
   ],
   "source": [
    "for x in dict1:\n",
    "    print(dict1[x])\n"
   ]
  },
  {
   "cell_type": "markdown",
   "metadata": {},
   "source": [
    "### 3. Using for loop (prints values using `values()`)\n",
    "\n",
    "> Print all values in the dictionary, one by one"
   ]
  },
  {
   "cell_type": "code",
   "execution_count": 38,
   "metadata": {},
   "outputs": [
    {
     "name": "stdout",
     "output_type": "stream",
     "text": [
      "5\n",
      "1\n",
      "5\n",
      "10\n",
      "10\n",
      "10\n"
     ]
    }
   ],
   "source": [
    "for x in dict1.values():\n",
    "    print(x)\n"
   ]
  },
  {
   "cell_type": "markdown",
   "metadata": {},
   "source": [
    "### 4. Using for loop (prints Key name using `keys()`)\n",
    "\n",
    "> Print all key names in the dictionary, one by one"
   ]
  },
  {
   "cell_type": "code",
   "execution_count": 40,
   "metadata": {},
   "outputs": [
    {
     "name": "stdout",
     "output_type": "stream",
     "text": [
      "Pritom\n",
      "Akhi\n",
      "Choity\n",
      "Us\n",
      "Pritom Akhi\n",
      "Y\n"
     ]
    }
   ],
   "source": [
    "for x in dict1.keys():\n",
    "    print(x)\n"
   ]
  },
  {
   "cell_type": "markdown",
   "metadata": {},
   "source": [
    "### 5. Using `for` loop (prints both keys and values using `items()`)\n",
    "\n",
    "> Loop through both keys and values, by using the items() method\n"
   ]
  },
  {
   "cell_type": "code",
   "execution_count": 41,
   "metadata": {},
   "outputs": [
    {
     "name": "stdout",
     "output_type": "stream",
     "text": [
      "Pritom 5\n",
      "Akhi 1\n",
      "Choity 5\n",
      "Us 10\n",
      "Pritom Akhi 10\n",
      "Y 10\n"
     ]
    }
   ],
   "source": [
    "for x, y in dict1.items():\n",
    "    print(x, y)\n"
   ]
  },
  {
   "cell_type": "markdown",
   "metadata": {},
   "source": [
    "## Copy Dictionary"
   ]
  },
  {
   "cell_type": "markdown",
   "metadata": {},
   "source": [
    "### 1. Using `copy()`"
   ]
  },
  {
   "cell_type": "code",
   "execution_count": 42,
   "metadata": {},
   "outputs": [
    {
     "name": "stdout",
     "output_type": "stream",
     "text": [
      "{'Pritom': 5, 'Akhi': 1, 'Choity': 5, 'Us': 10, 'Pritom Akhi': 10, 'Y': 10}\n"
     ]
    }
   ],
   "source": [
    "dictx = dict1.copy()\n",
    "\n",
    "print(dictx)\n"
   ]
  },
  {
   "cell_type": "markdown",
   "metadata": {},
   "source": [
    "### 2. Using `dict`"
   ]
  },
  {
   "cell_type": "code",
   "execution_count": 43,
   "metadata": {},
   "outputs": [
    {
     "name": "stdout",
     "output_type": "stream",
     "text": [
      "{'Pritom': 5, 'Akhi': 1, 'Choity': 5, 'Us': 10, 'Pritom Akhi': 10, 'Y': 10}\n"
     ]
    }
   ],
   "source": [
    "dicty = dict(dict1)\n",
    "\n",
    "print(dicty)\n"
   ]
  },
  {
   "cell_type": "markdown",
   "metadata": {},
   "source": [
    "## Nested dictionary"
   ]
  },
  {
   "cell_type": "markdown",
   "metadata": {},
   "source": [
    "### 1. Building Nested dictionary"
   ]
  },
  {
   "cell_type": "markdown",
   "metadata": {},
   "source": [
    "#### 1. Method 1: dictionaries inside a dictionary"
   ]
  },
  {
   "cell_type": "code",
   "execution_count": 44,
   "metadata": {},
   "outputs": [
    {
     "name": "stdout",
     "output_type": "stream",
     "text": [
      "{'child1': {'name': 'Pritom', 'age': 23}, 'child2': {'name': 'Promit', 'age': 19}, 'child3': {'name': 'Akhi', 'age': 23}}\n"
     ]
    }
   ],
   "source": [
    "dictNested1 = {\n",
    "    \"child1\": {\"name\": \"Pritom\", \"age\": 23},\n",
    "    \"child2\": {\"name\": \"Promit\", \"age\": 19},\n",
    "    \"child3\": {\"name\": \"Akhi\", \"age\": 23},\n",
    "}\n",
    "\n",
    "print(dictNested1)"
   ]
  },
  {
   "cell_type": "markdown",
   "metadata": {},
   "source": [
    "#### 2. Method 2: Multiple dictionary into a nested dictionary"
   ]
  },
  {
   "cell_type": "code",
   "execution_count": 45,
   "metadata": {},
   "outputs": [
    {
     "name": "stdout",
     "output_type": "stream",
     "text": [
      "{'child1': {'name': 'Pritom', 'age': 23}, 'child2': {'name': 'Promit', 'age': 19}, 'child3': {'name': 'Akhi', 'age': 23}}\n"
     ]
    }
   ],
   "source": [
    "child1 = {\"name\": \"Pritom\", \"age\": 23}\n",
    "child2 = {\"name\": \"Promit\", \"age\": 19}\n",
    "child3 = {\"name\": \"Akhi\", \"age\": 23}\n",
    "\n",
    "dictNested2 = {\"child1\": child1, \"child2\": child2, \"child3\": child3}\n",
    "\n",
    "print(dictNested2)"
   ]
  },
  {
   "cell_type": "markdown",
   "metadata": {},
   "source": [
    "### 2. Accessing dictionary elements"
   ]
  },
  {
   "cell_type": "code",
   "execution_count": 46,
   "metadata": {},
   "outputs": [
    {
     "name": "stdout",
     "output_type": "stream",
     "text": [
      "{'name': 'Pritom', 'age': 23}\n",
      "Pritom\n"
     ]
    }
   ],
   "source": [
    "print(dictNested1[\"child1\"])\n",
    "\n",
    "print(dictNested1[\"child1\"][\"name\"])"
   ]
  },
  {
   "cell_type": "markdown",
   "metadata": {},
   "source": [
    "### 3. Looping through nested dictionary"
   ]
  },
  {
   "cell_type": "code",
   "execution_count": 48,
   "metadata": {},
   "outputs": [
    {
     "name": "stdout",
     "output_type": "stream",
     "text": [
      "child1\n",
      "\t name Pritom\n",
      "\t age 23\n",
      "child2\n",
      "\t name Promit\n",
      "\t age 19\n",
      "child3\n",
      "\t name Akhi\n",
      "\t age 23\n"
     ]
    }
   ],
   "source": [
    "for k1, val1 in dictNested1.items():\n",
    "    print(k1)\n",
    "\n",
    "    for k2, val2 in val1.items():\n",
    "        print(\"\\t\", k2, val2)"
   ]
  },
  {
   "cell_type": "markdown",
   "metadata": {},
   "source": [
    "## Dictionary Methods\n",
    "\n",
    "|Method\t|Description|\n",
    "|-------|-----------|\n",
    "|clear()|\tRemoves all the elements from the dictionary|\n",
    "|copy()\t|Returns a copy of the dictionary|\n",
    "|fromkeys()|\tReturns a dictionary with the specified keys and value|\n",
    "|get()|\tReturns the value of the specified key|\n",
    "|items()|\tReturns a list containing a tuple for each key value pair|\n",
    "|keys()\t|Returns a list containing the dictionary's keys|\n",
    "|pop()\t|Removes the element with the specified key|\n",
    "|popitem()|\tRemoves the last inserted key-value pair|\n",
    "|setdefault()|\tReturns the value of the specified key. If the key does not exist: insert the key, with the specified value|\n",
    "|update()|\tUpdates the dictionary with the specified key-value pairs|\n",
    "|values()|\tReturns a list of all the values in the dictionary|"
   ]
  }
 ],
 "metadata": {
  "kernelspec": {
   "display_name": "base",
   "language": "python",
   "name": "python3"
  },
  "language_info": {
   "codemirror_mode": {
    "name": "ipython",
    "version": 3
   },
   "file_extension": ".py",
   "mimetype": "text/x-python",
   "name": "python",
   "nbconvert_exporter": "python",
   "pygments_lexer": "ipython3",
   "version": "3.11.5"
  }
 },
 "nbformat": 4,
 "nbformat_minor": 2
}
