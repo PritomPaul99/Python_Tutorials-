{
 "cells": [
  {
   "cell_type": "markdown",
   "metadata": {},
   "source": [
    "# Python Function\n",
    "\n",
    "```python\n",
    "def function_name(perameters):  \n",
    "    function_elements\n",
    "```"
   ]
  },
  {
   "cell_type": "markdown",
   "metadata": {},
   "source": [
    "### Type 1 "
   ]
  },
  {
   "cell_type": "code",
   "execution_count": 2,
   "metadata": {},
   "outputs": [
    {
     "name": "stdout",
     "output_type": "stream",
     "text": [
      "Value: Pritom\n"
     ]
    }
   ],
   "source": [
    "def printName(parameter):\n",
    "    print(\"Value:\", parameter)\n",
    "    pass\n",
    "\n",
    "\n",
    "printName(\"Pritom\")"
   ]
  },
  {
   "cell_type": "markdown",
   "metadata": {},
   "source": [
    "### Type 2 (With return)"
   ]
  },
  {
   "cell_type": "code",
   "execution_count": 5,
   "metadata": {},
   "outputs": [
    {
     "name": "stdout",
     "output_type": "stream",
     "text": [
      "7\n"
     ]
    }
   ],
   "source": [
    "def sum(num1, num2):\n",
    "    sum = num1 + num2\n",
    "    return sum\n",
    "\n",
    "\n",
    "print(sum(2, 5))"
   ]
  },
  {
   "cell_type": "markdown",
   "metadata": {},
   "source": [
    "### Type 3 (Arbitrary Arguments, *args)"
   ]
  },
  {
   "cell_type": "code",
   "execution_count": 7,
   "metadata": {},
   "outputs": [
    {
     "name": "stdout",
     "output_type": "stream",
     "text": [
      "('Pritom', 2, 'Paul')\n"
     ]
    }
   ],
   "source": [
    "def Print1(*parameters):\n",
    "    print(parameters)\n",
    "\n",
    "\n",
    "Print1(\"Pritom\", 2, \"Paul\")"
   ]
  },
  {
   "cell_type": "markdown",
   "metadata": {},
   "source": [
    "### Type 4 (Keyword Arguments)\n",
    "You can also send arguments with the key = value syntax.  \n",
    "This way the order of the arguments does not matter."
   ]
  },
  {
   "cell_type": "code",
   "execution_count": 8,
   "metadata": {},
   "outputs": [
    {
     "name": "stdout",
     "output_type": "stream",
     "text": [
      "6\n"
     ]
    }
   ],
   "source": [
    "def Function1(val1, val2, val3):\n",
    "    return val1 + val2 + val3\n",
    "\n",
    "\n",
    "print(Function1(val3=3, val2=2, val1=1))"
   ]
  },
  {
   "cell_type": "markdown",
   "metadata": {},
   "source": [
    "### Type 5 (Arbitrary Keyword Arguments, **kwargs)\n",
    "f you do not know how many keyword arguments that will be passed into your function, add two asterisk: ** before the parameter name in the function definition.\n",
    "\n",
    "This way the function will receive a dictionary of arguments, and can access the items accordingly:"
   ]
  },
  {
   "cell_type": "code",
   "execution_count": 9,
   "metadata": {},
   "outputs": [
    {
     "name": "stdout",
     "output_type": "stream",
     "text": [
      "First name: Pritom\n"
     ]
    }
   ],
   "source": [
    "def Function2(**kargs):\n",
    "    print(\"First name:\", kargs['fname'])\n",
    "\n",
    "Function2(fname = \"Pritom\", lname = \"Paul\")"
   ]
  },
  {
   "cell_type": "markdown",
   "metadata": {},
   "source": [
    "### Type 6 (Default Parameter Value)"
   ]
  },
  {
   "cell_type": "code",
   "execution_count": 11,
   "metadata": {},
   "outputs": [
    {
     "name": "stdout",
     "output_type": "stream",
     "text": [
      "My name is: Pritom\n",
      "My name is: Akhi\n"
     ]
    }
   ],
   "source": [
    "def Function3(x  = \"Pritom\"):\n",
    "    print(\"My name is:\", x)\n",
    "\n",
    "Function3()\n",
    "Function3(\"Akhi\")"
   ]
  },
  {
   "cell_type": "markdown",
   "metadata": {},
   "source": [
    "### Type 7 (Positional-Only Arguments)\n",
    "> No keyword arguments\n",
    "\n",
    "Example:\n",
    "```python\n",
    "def my_function(x, /):\n",
    "  print(x)\n",
    "\n",
    "my_function(3)\n",
    "```"
   ]
  },
  {
   "cell_type": "code",
   "execution_count": 13,
   "metadata": {},
   "outputs": [
    {
     "name": "stdout",
     "output_type": "stream",
     "text": [
      "1\n"
     ]
    }
   ],
   "source": [
    "def Function4(x, /):\n",
    "    print(x)\n",
    "\n",
    "Function4(1)"
   ]
  },
  {
   "cell_type": "markdown",
   "metadata": {},
   "source": [
    "### Type 8 (Keyword-Only Arguments)\n",
    "\n",
    "Example:\n",
    "```python\n",
    "def my_function(*, x):\n",
    "  print(x)\n",
    "\n",
    "my_function(x = 3)\n",
    "```"
   ]
  },
  {
   "cell_type": "code",
   "execution_count": 15,
   "metadata": {},
   "outputs": [
    {
     "name": "stdout",
     "output_type": "stream",
     "text": [
      "4\n"
     ]
    }
   ],
   "source": [
    "def Function5(*, x):\n",
    "    print(x)\n",
    "\n",
    "Function5(x = 4)"
   ]
  },
  {
   "cell_type": "markdown",
   "metadata": {},
   "source": [
    "### Type 9 (Combine Positional-Only and Keyword-Only)\n",
    "> Any argument before the `/` , are `positional-only`.  \n",
    "> Any argument after the `*`, are `keyword-only`."
   ]
  },
  {
   "cell_type": "code",
   "execution_count": 18,
   "metadata": {},
   "outputs": [
    {
     "name": "stdout",
     "output_type": "stream",
     "text": [
      "1 2 3 4 5\n",
      "1 2 3 4 5\n"
     ]
    }
   ],
   "source": [
    "def Function6(a, b, /, c, *, d, e):\n",
    "    print(a, b, c, d, e)\n",
    "\n",
    "\n",
    "Function6(1, 2, 3, d=4, e=5)\n",
    "Function6(1, 2, c=3, d=4, e=5) # c can be used either way"
   ]
  },
  {
   "cell_type": "code",
   "execution_count": null,
   "metadata": {},
   "outputs": [],
   "source": []
  }
 ],
 "metadata": {
  "kernelspec": {
   "display_name": "base",
   "language": "python",
   "name": "python3"
  },
  "language_info": {
   "codemirror_mode": {
    "name": "ipython",
    "version": 3
   },
   "file_extension": ".py",
   "mimetype": "text/x-python",
   "name": "python",
   "nbconvert_exporter": "python",
   "pygments_lexer": "ipython3",
   "version": "3.11.5"
  }
 },
 "nbformat": 4,
 "nbformat_minor": 2
}
