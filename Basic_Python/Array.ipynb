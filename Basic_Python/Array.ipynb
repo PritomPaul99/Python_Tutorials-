{
 "cells": [
  {
   "cell_type": "markdown",
   "metadata": {},
   "source": [
    "# Python Array\n",
    "\n",
    "> Note: \n",
    "> - Python does not have built-in support for Arrays, but Python Lists can be used instead.  \n",
    "> - This page shows you how to use LISTS as ARRAYS, however, to work with arrays in Python you will have to import a library, like the [NumPy library](https://www.w3schools.com/python/numpy/default.asp).\n",
    "\n",
    "Python array is just like c++ array. But few differences are explained below."
   ]
  },
  {
   "cell_type": "code",
   "execution_count": 8,
   "metadata": {},
   "outputs": [
    {
     "name": "stdout",
     "output_type": "stream",
     "text": [
      "[1, 2, 3, 4, 2, 56, 2, 67]\n",
      "<class 'list'>\n"
     ]
    }
   ],
   "source": [
    "nums = [1, 2, 3, 4, 2, 56, 2, 67]\n",
    "\n",
    "print(nums)\n",
    "print(type(nums))"
   ]
  },
  {
   "cell_type": "markdown",
   "metadata": {},
   "source": [
    "### Add value"
   ]
  },
  {
   "cell_type": "code",
   "execution_count": 9,
   "metadata": {},
   "outputs": [
    {
     "name": "stdout",
     "output_type": "stream",
     "text": [
      "[1, 2, 3, 4, 2, 56, 2, 67, 50, 50]\n"
     ]
    }
   ],
   "source": [
    "nums.append(50) ### Delete value using `pop()`. It uses `index` to remove value.\n",
    "nums.append(50)\n",
    "\n",
    "\n",
    "print(nums)"
   ]
  },
  {
   "cell_type": "markdown",
   "metadata": {},
   "source": [
    "### Delete value using `pop()`. It uses `index` to remove value."
   ]
  },
  {
   "cell_type": "code",
   "execution_count": 10,
   "metadata": {},
   "outputs": [
    {
     "name": "stdout",
     "output_type": "stream",
     "text": [
      "[1, 3, 4, 2, 56, 2, 67, 50, 50]\n"
     ]
    }
   ],
   "source": [
    "nums.pop(1) # Remove the 2nd value\n",
    "\n",
    "print(nums)"
   ]
  },
  {
   "cell_type": "markdown",
   "metadata": {},
   "source": [
    "### Delete value using `remove()`. It uses `value` to remove value. If there are duplicates, it removes the 1st one"
   ]
  },
  {
   "cell_type": "code",
   "execution_count": 11,
   "metadata": {},
   "outputs": [
    {
     "name": "stdout",
     "output_type": "stream",
     "text": [
      "[1, 3, 4, 56, 2, 67, 50, 50]\n"
     ]
    }
   ],
   "source": [
    "nums.remove(2)\n",
    "print(nums)"
   ]
  },
  {
   "cell_type": "markdown",
   "metadata": {},
   "source": [
    "Python has a set of built-in methods that you can use on lists/arrays.\n",
    "\n",
    "|Method\t|Description|\n",
    "|-------|-----------|\n",
    "|append()|\tAdds an element at the end of the list|\n",
    "|clear()\t|Removes all the elements from the list|\n",
    "|copy()\t|R|eturns a copy of the list|\n",
    "|count()\t|Returns the number of elements with the specified value|\n",
    "|extend()|\tAdd the elements of a list (or any iterable), to the end of the current list|\n",
    "|index()\t|Returns the index of the first element with the specified value|\n",
    "|insert()|\tAdds an element at the specified position|\n",
    "|pop()\t|Removes the element at the specified position|\n",
    "|remove()|\tRemoves the first item with the specified value|\n",
    "|reverse()|\tReverses the order of the list|\n",
    "|sort()\t|Sorts the list|"
   ]
  },
  {
   "cell_type": "markdown",
   "metadata": {},
   "source": []
  }
 ],
 "metadata": {
  "kernelspec": {
   "display_name": "base",
   "language": "python",
   "name": "python3"
  },
  "language_info": {
   "codemirror_mode": {
    "name": "ipython",
    "version": 3
   },
   "file_extension": ".py",
   "mimetype": "text/x-python",
   "name": "python",
   "nbconvert_exporter": "python",
   "pygments_lexer": "ipython3",
   "version": "3.11.5"
  }
 },
 "nbformat": 4,
 "nbformat_minor": 2
}
